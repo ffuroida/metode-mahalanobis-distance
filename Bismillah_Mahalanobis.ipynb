{
 "cells": [
  {
   "cell_type": "code",
   "execution_count": 3,
   "metadata": {},
   "outputs": [],
   "source": [
    "# Common imports\n",
    "import os\n",
    "import pandas as pd\n",
    "import numpy as np\n",
    "from sklearn import preprocessing\n",
    "import seaborn as sns\n",
    "sns.set(color_codes=True)\n",
    "import matplotlib.pyplot as plt\n",
    "%matplotlib inline\n",
    "\n",
    "from numpy.random import seed\n",
    "from tensorflow.python.keras import backend as K\n",
    "from tensorflow import set_random_seed\n",
    "\n",
    "from keras.layers import Input, Dropout\n",
    "from keras.layers.core import Dense \n",
    "from keras.models import Model, Sequential, load_model\n",
    "from keras import regularizers\n",
    "from keras.models import model_from_json"
   ]
  },
  {
   "cell_type": "code",
   "execution_count": 4,
   "metadata": {},
   "outputs": [
    {
     "data": {
      "text/html": [
       "<div>\n",
       "<style scoped>\n",
       "    .dataframe tbody tr th:only-of-type {\n",
       "        vertical-align: middle;\n",
       "    }\n",
       "\n",
       "    .dataframe tbody tr th {\n",
       "        vertical-align: top;\n",
       "    }\n",
       "\n",
       "    .dataframe thead th {\n",
       "        text-align: right;\n",
       "    }\n",
       "</style>\n",
       "<table border=\"1\" class=\"dataframe\">\n",
       "  <thead>\n",
       "    <tr style=\"text-align: right;\">\n",
       "      <th></th>\n",
       "      <th>date</th>\n",
       "      <th>abpmean</th>\n",
       "      <th>hr</th>\n",
       "      <th>pulse</th>\n",
       "      <th>resp</th>\n",
       "      <th>spo2</th>\n",
       "      <th>label</th>\n",
       "    </tr>\n",
       "  </thead>\n",
       "  <tbody>\n",
       "    <tr>\n",
       "      <th>0</th>\n",
       "      <td>'09:19:33 19/05/1995'</td>\n",
       "      <td>113</td>\n",
       "      <td>100</td>\n",
       "      <td>100</td>\n",
       "      <td>22</td>\n",
       "      <td>100</td>\n",
       "      <td>0</td>\n",
       "    </tr>\n",
       "    <tr>\n",
       "      <th>1</th>\n",
       "      <td>'09:19:34 19/05/1995'</td>\n",
       "      <td>113</td>\n",
       "      <td>100</td>\n",
       "      <td>100</td>\n",
       "      <td>22</td>\n",
       "      <td>99</td>\n",
       "      <td>0</td>\n",
       "    </tr>\n",
       "    <tr>\n",
       "      <th>2</th>\n",
       "      <td>'09:19:35 19/05/1995'</td>\n",
       "      <td>113</td>\n",
       "      <td>100</td>\n",
       "      <td>101</td>\n",
       "      <td>20</td>\n",
       "      <td>99</td>\n",
       "      <td>0</td>\n",
       "    </tr>\n",
       "    <tr>\n",
       "      <th>3</th>\n",
       "      <td>'09:19:36 19/05/1995'</td>\n",
       "      <td>113</td>\n",
       "      <td>101</td>\n",
       "      <td>101</td>\n",
       "      <td>21</td>\n",
       "      <td>98</td>\n",
       "      <td>0</td>\n",
       "    </tr>\n",
       "    <tr>\n",
       "      <th>4</th>\n",
       "      <td>'09:19:37 19/05/1995'</td>\n",
       "      <td>113</td>\n",
       "      <td>101</td>\n",
       "      <td>102</td>\n",
       "      <td>21</td>\n",
       "      <td>98</td>\n",
       "      <td>0</td>\n",
       "    </tr>\n",
       "  </tbody>\n",
       "</table>\n",
       "</div>"
      ],
      "text/plain": [
       "                    date  abpmean   hr  pulse  resp  spo2  label\n",
       "0  '09:19:33 19/05/1995'      113  100    100    22   100      0\n",
       "1  '09:19:34 19/05/1995'      113  100    100    22    99      0\n",
       "2  '09:19:35 19/05/1995'      113  100    101    20    99      0\n",
       "3  '09:19:36 19/05/1995'      113  101    101    21    98      0\n",
       "4  '09:19:37 19/05/1995'      113  101    102    21    98      0"
      ]
     },
     "execution_count": 4,
     "metadata": {},
     "output_type": "execute_result"
    }
   ],
   "source": [
    "headers = ['date','abpmean','hr','pulse','resp','spo2','label']\n",
    "dataset = pd.read_csv('dataset1.csv',names=headers)\n",
    "# dataset = dataset.drop(dataset.columns[0], axis=1)\n",
    "dataset.head()"
   ]
  },
  {
   "cell_type": "code",
   "execution_count": 5,
   "metadata": {},
   "outputs": [],
   "source": [
    "# membagi data training dan data test 80%, 20%\n",
    "from sklearn.model_selection import train_test_split\n",
    "\n",
    "dataset.label = pd.factorize(dataset.label)[0]\n",
    "X = dataset.iloc[:, 1:6]\n",
    "y = dataset.label\n",
    "X_train, X_test, y_train, y_test = train_test_split(X, y, test_size=0.2, random_state=1)"
   ]
  },
  {
   "cell_type": "code",
   "execution_count": 6,
   "metadata": {},
   "outputs": [
    {
     "data": {
      "text/html": [
       "<div>\n",
       "<style scoped>\n",
       "    .dataframe tbody tr th:only-of-type {\n",
       "        vertical-align: middle;\n",
       "    }\n",
       "\n",
       "    .dataframe tbody tr th {\n",
       "        vertical-align: top;\n",
       "    }\n",
       "\n",
       "    .dataframe thead th {\n",
       "        text-align: right;\n",
       "    }\n",
       "</style>\n",
       "<table border=\"1\" class=\"dataframe\">\n",
       "  <thead>\n",
       "    <tr style=\"text-align: right;\">\n",
       "      <th></th>\n",
       "      <th>abpmean</th>\n",
       "      <th>hr</th>\n",
       "      <th>pulse</th>\n",
       "      <th>resp</th>\n",
       "      <th>spo2</th>\n",
       "    </tr>\n",
       "  </thead>\n",
       "  <tbody>\n",
       "    <tr>\n",
       "      <th>102</th>\n",
       "      <td>111</td>\n",
       "      <td>96</td>\n",
       "      <td>0</td>\n",
       "      <td>20</td>\n",
       "      <td>0</td>\n",
       "    </tr>\n",
       "    <tr>\n",
       "      <th>80</th>\n",
       "      <td>107</td>\n",
       "      <td>95</td>\n",
       "      <td>96</td>\n",
       "      <td>20</td>\n",
       "      <td>98</td>\n",
       "    </tr>\n",
       "    <tr>\n",
       "      <th>245</th>\n",
       "      <td>110</td>\n",
       "      <td>94</td>\n",
       "      <td>94</td>\n",
       "      <td>23</td>\n",
       "      <td>97</td>\n",
       "    </tr>\n",
       "    <tr>\n",
       "      <th>163</th>\n",
       "      <td>110</td>\n",
       "      <td>94</td>\n",
       "      <td>94</td>\n",
       "      <td>21</td>\n",
       "      <td>99</td>\n",
       "    </tr>\n",
       "    <tr>\n",
       "      <th>131</th>\n",
       "      <td>113</td>\n",
       "      <td>96</td>\n",
       "      <td>0</td>\n",
       "      <td>15</td>\n",
       "      <td>0</td>\n",
       "    </tr>\n",
       "  </tbody>\n",
       "</table>\n",
       "</div>"
      ],
      "text/plain": [
       "     abpmean  hr  pulse  resp  spo2\n",
       "102      111  96      0    20     0\n",
       "80       107  95     96    20    98\n",
       "245      110  94     94    23    97\n",
       "163      110  94     94    21    99\n",
       "131      113  96      0    15     0"
      ]
     },
     "execution_count": 6,
     "metadata": {},
     "output_type": "execute_result"
    }
   ],
   "source": [
    "# data train\n",
    "X_train.head()"
   ]
  },
  {
   "cell_type": "code",
   "execution_count": 7,
   "metadata": {},
   "outputs": [
    {
     "data": {
      "text/html": [
       "<div>\n",
       "<style scoped>\n",
       "    .dataframe tbody tr th:only-of-type {\n",
       "        vertical-align: middle;\n",
       "    }\n",
       "\n",
       "    .dataframe tbody tr th {\n",
       "        vertical-align: top;\n",
       "    }\n",
       "\n",
       "    .dataframe thead th {\n",
       "        text-align: right;\n",
       "    }\n",
       "</style>\n",
       "<table border=\"1\" class=\"dataframe\">\n",
       "  <thead>\n",
       "    <tr style=\"text-align: right;\">\n",
       "      <th></th>\n",
       "      <th>abpmean</th>\n",
       "      <th>hr</th>\n",
       "      <th>pulse</th>\n",
       "      <th>resp</th>\n",
       "      <th>spo2</th>\n",
       "    </tr>\n",
       "  </thead>\n",
       "  <tbody>\n",
       "    <tr>\n",
       "      <th>285</th>\n",
       "      <td>108</td>\n",
       "      <td>95</td>\n",
       "      <td>95</td>\n",
       "      <td>24</td>\n",
       "      <td>98</td>\n",
       "    </tr>\n",
       "    <tr>\n",
       "      <th>248</th>\n",
       "      <td>109</td>\n",
       "      <td>94</td>\n",
       "      <td>94</td>\n",
       "      <td>23</td>\n",
       "      <td>97</td>\n",
       "    </tr>\n",
       "    <tr>\n",
       "      <th>150</th>\n",
       "      <td>112</td>\n",
       "      <td>95</td>\n",
       "      <td>96</td>\n",
       "      <td>25</td>\n",
       "      <td>100</td>\n",
       "    </tr>\n",
       "    <tr>\n",
       "      <th>217</th>\n",
       "      <td>109</td>\n",
       "      <td>93</td>\n",
       "      <td>92</td>\n",
       "      <td>23</td>\n",
       "      <td>98</td>\n",
       "    </tr>\n",
       "    <tr>\n",
       "      <th>107</th>\n",
       "      <td>112</td>\n",
       "      <td>99</td>\n",
       "      <td>0</td>\n",
       "      <td>19</td>\n",
       "      <td>0</td>\n",
       "    </tr>\n",
       "  </tbody>\n",
       "</table>\n",
       "</div>"
      ],
      "text/plain": [
       "     abpmean  hr  pulse  resp  spo2\n",
       "285      108  95     95    24    98\n",
       "248      109  94     94    23    97\n",
       "150      112  95     96    25   100\n",
       "217      109  93     92    23    98\n",
       "107      112  99      0    19     0"
      ]
     },
     "execution_count": 7,
     "metadata": {},
     "output_type": "execute_result"
    }
   ],
   "source": [
    "# data test\n",
    "X_test.head()"
   ]
  },
  {
   "cell_type": "code",
   "execution_count": 8,
   "metadata": {},
   "outputs": [
    {
     "name": "stderr",
     "output_type": "stream",
     "text": [
      "c:\\users\\hp\\appdata\\local\\programs\\python\\python36\\lib\\site-packages\\sklearn\\preprocessing\\data.py:334: DataConversionWarning: Data with input dtype int64 were all converted to float64 by MinMaxScaler.\n",
      "  return self.partial_fit(X, y)\n",
      "c:\\users\\hp\\appdata\\local\\programs\\python\\python36\\lib\\site-packages\\sklearn\\preprocessing\\data.py:334: DataConversionWarning: Data with input dtype int64 were all converted to float64 by MinMaxScaler.\n",
      "  return self.partial_fit(X, y)\n"
     ]
    }
   ],
   "source": [
    "from sklearn.preprocessing import MinMaxScaler\n",
    "\n",
    "sc = MinMaxScaler(feature_range=(0, 1))\n",
    "X_train = sc.fit_transform(X_train)\n",
    "X_test = sc.fit_transform(X_test)"
   ]
  },
  {
   "cell_type": "code",
   "execution_count": 9,
   "metadata": {},
   "outputs": [
    {
     "data": {
      "text/plain": [
       "array([[0.71428571, 0.36363636, 0.        , 0.10227273, 0.        ],\n",
       "       [0.14285714, 0.27272727, 0.93203883, 0.10227273, 0.98      ],\n",
       "       [0.57142857, 0.18181818, 0.91262136, 0.13636364, 0.97      ],\n",
       "       ...,\n",
       "       [0.28571429, 0.45454545, 0.93203883, 0.11363636, 0.99      ],\n",
       "       [0.42857143, 0.09090909, 0.90291262, 0.13636364, 0.99      ],\n",
       "       [0.14285714, 0.63636364, 0.95145631, 0.10227273, 1.        ]])"
      ]
     },
     "execution_count": 9,
     "metadata": {},
     "output_type": "execute_result"
    }
   ],
   "source": [
    "# hasil min max xtrain\n",
    "X_train"
   ]
  },
  {
   "cell_type": "code",
   "execution_count": 10,
   "metadata": {},
   "outputs": [
    {
     "data": {
      "text/plain": [
       "array([[0.28571429, 0.33333333, 0.93137255, 0.12790698, 0.98      ],\n",
       "       [0.42857143, 0.22222222, 0.92156863, 0.11627907, 0.97      ],\n",
       "       [0.85714286, 0.33333333, 0.94117647, 0.13953488, 1.        ],\n",
       "       [0.42857143, 0.11111111, 0.90196078, 0.11627907, 0.98      ],\n",
       "       [0.85714286, 0.77777778, 0.        , 0.06976744, 0.        ],\n",
       "       [0.42857143, 0.22222222, 0.87254902, 1.        , 0.98      ],\n",
       "       [1.        , 0.44444444, 0.        , 0.11627907, 0.        ],\n",
       "       [0.14285714, 0.55555556, 0.94117647, 0.09302326, 0.99      ],\n",
       "       [0.28571429, 0.44444444, 0.94117647, 0.12790698, 0.99      ],\n",
       "       [0.57142857, 0.55555556, 0.93137255, 0.09302326, 0.99      ],\n",
       "       [0.28571429, 0.33333333, 0.92156863, 0.11627907, 0.99      ],\n",
       "       [0.28571429, 0.66666667, 0.        , 0.15116279, 0.        ],\n",
       "       [0.14285714, 0.55555556, 0.94117647, 0.09302326, 0.99      ],\n",
       "       [0.14285714, 0.44444444, 0.96078431, 0.10465116, 0.99      ],\n",
       "       [0.71428571, 0.55555556, 0.95098039, 0.11627907, 0.98      ],\n",
       "       [0.71428571, 0.33333333, 0.88235294, 0.08139535, 0.99      ],\n",
       "       [0.42857143, 1.        , 0.98039216, 0.09302326, 0.99      ],\n",
       "       [0.71428571, 0.22222222, 0.91176471, 0.08139535, 0.99      ],\n",
       "       [0.71428571, 0.33333333, 0.92156863, 0.10465116, 0.99      ],\n",
       "       [0.57142857, 1.        , 0.99019608, 0.09302326, 0.99      ],\n",
       "       [0.85714286, 1.        , 0.99019608, 0.09302326, 0.99      ],\n",
       "       [0.        , 0.44444444, 0.94117647, 0.11627907, 0.99      ],\n",
       "       [0.14285714, 0.33333333, 0.94117647, 0.08139535, 0.98      ],\n",
       "       [0.42857143, 1.        , 0.98039216, 0.09302326, 0.99      ],\n",
       "       [0.28571429, 0.55555556, 0.94117647, 0.09302326, 0.98      ],\n",
       "       [0.28571429, 0.88888889, 0.97058824, 0.09302326, 0.98      ],\n",
       "       [0.        , 0.44444444, 0.94117647, 0.09302326, 0.99      ],\n",
       "       [0.71428571, 0.22222222, 0.        , 0.19767442, 0.        ],\n",
       "       [0.71428571, 0.33333333, 0.88235294, 0.08139535, 0.98      ],\n",
       "       [0.71428571, 0.22222222, 0.88235294, 0.08139535, 0.99      ],\n",
       "       [0.57142857, 0.33333333, 0.91176471, 0.08139535, 0.97      ],\n",
       "       [0.42857143, 0.44444444, 0.95098039, 0.1627907 , 0.98      ],\n",
       "       [0.14285714, 0.33333333, 0.95098039, 1.        , 0.97      ],\n",
       "       [0.        , 0.44444444, 0.96078431, 0.10465116, 0.99      ],\n",
       "       [0.57142857, 0.77777778, 0.96078431, 0.09302326, 0.99      ],\n",
       "       [0.42857143, 0.77777778, 0.        , 0.13953488, 0.        ],\n",
       "       [0.42857143, 0.22222222, 0.92156863, 0.11627907, 0.97      ],\n",
       "       [0.71428571, 0.44444444, 0.        , 0.        , 0.        ],\n",
       "       [0.57142857, 0.55555556, 0.95098039, 0.12790698, 0.98      ],\n",
       "       [0.71428571, 0.11111111, 0.92156863, 0.11627907, 0.98      ],\n",
       "       [0.42857143, 0.33333333, 0.93137255, 0.10465116, 0.98      ],\n",
       "       [0.57142857, 0.33333333, 0.92156863, 0.11627907, 0.97      ],\n",
       "       [0.57142857, 0.55555556, 0.95098039, 0.1627907 , 0.98      ],\n",
       "       [1.        , 1.        , 1.        , 0.09302326, 0.98      ],\n",
       "       [0.14285714, 0.55555556, 0.95098039, 0.09302326, 0.99      ],\n",
       "       [0.        , 0.44444444, 0.94117647, 0.11627907, 0.99      ],\n",
       "       [0.57142857, 0.33333333, 0.93137255, 0.11627907, 0.98      ],\n",
       "       [0.42857143, 0.22222222, 0.92156863, 0.11627907, 0.97      ],\n",
       "       [0.28571429, 1.        , 0.97058824, 0.08139535, 0.98      ],\n",
       "       [0.85714286, 0.66666667, 0.        , 0.08139535, 0.        ],\n",
       "       [1.        , 0.88888889, 0.98039216, 0.10465116, 1.        ],\n",
       "       [0.57142857, 0.44444444, 0.93137255, 0.09302326, 0.99      ],\n",
       "       [0.57142857, 0.11111111, 0.91176471, 0.11627907, 0.98      ],\n",
       "       [0.        , 0.44444444, 0.94117647, 0.09302326, 0.99      ],\n",
       "       [0.85714286, 0.44444444, 0.        , 0.02325581, 0.        ],\n",
       "       [0.57142857, 0.55555556, 0.95098039, 0.09302326, 0.98      ],\n",
       "       [0.        , 0.44444444, 0.95098039, 0.10465116, 0.98      ],\n",
       "       [0.71428571, 0.44444444, 0.93137255, 0.10465116, 0.99      ],\n",
       "       [0.57142857, 0.        , 0.90196078, 0.11627907, 0.98      ],\n",
       "       [0.28571429, 0.33333333, 0.94117647, 0.12790698, 0.98      ],\n",
       "       [0.57142857, 0.33333333, 0.93137255, 0.09302326, 0.97      ]])"
      ]
     },
     "execution_count": 10,
     "metadata": {},
     "output_type": "execute_result"
    }
   ],
   "source": [
    "# hasil min max xtest\n",
    "X_test"
   ]
  },
  {
   "cell_type": "code",
   "execution_count": 11,
   "metadata": {},
   "outputs": [],
   "source": [
    "# processing pca\n",
    "from sklearn.decomposition import PCA\n",
    "pca = PCA(n_components=2)\n",
    "principalComponents_Xtrain = pca.fit_transform(X_train)\n",
    "principalComponents_Xtest = pca.transform(X_test)\n",
    "principalDf = pd.DataFrame(data = principalComponents_Xtrain, columns = ['principal component 1', 'principal component 2'])"
   ]
  },
  {
   "cell_type": "code",
   "execution_count": 12,
   "metadata": {},
   "outputs": [
    {
     "data": {
      "text/html": [
       "<div>\n",
       "<style scoped>\n",
       "    .dataframe tbody tr th:only-of-type {\n",
       "        vertical-align: middle;\n",
       "    }\n",
       "\n",
       "    .dataframe tbody tr th {\n",
       "        vertical-align: top;\n",
       "    }\n",
       "\n",
       "    .dataframe thead th {\n",
       "        text-align: right;\n",
       "    }\n",
       "</style>\n",
       "<table border=\"1\" class=\"dataframe\">\n",
       "  <thead>\n",
       "    <tr style=\"text-align: right;\">\n",
       "      <th></th>\n",
       "      <th>principal component 1</th>\n",
       "      <th>principal component 2</th>\n",
       "    </tr>\n",
       "  </thead>\n",
       "  <tbody>\n",
       "    <tr>\n",
       "      <th>0</th>\n",
       "      <td>1.115406</td>\n",
       "      <td>-0.072485</td>\n",
       "    </tr>\n",
       "    <tr>\n",
       "      <th>1</th>\n",
       "      <td>-0.336053</td>\n",
       "      <td>-0.289228</td>\n",
       "    </tr>\n",
       "    <tr>\n",
       "      <th>2</th>\n",
       "      <td>-0.212895</td>\n",
       "      <td>-0.017534</td>\n",
       "    </tr>\n",
       "    <tr>\n",
       "      <th>3</th>\n",
       "      <td>-0.226211</td>\n",
       "      <td>-0.011964</td>\n",
       "    </tr>\n",
       "    <tr>\n",
       "      <th>4</th>\n",
       "      <td>1.187314</td>\n",
       "      <td>0.156985</td>\n",
       "    </tr>\n",
       "  </tbody>\n",
       "</table>\n",
       "</div>"
      ],
      "text/plain": [
       "   principal component 1  principal component 2\n",
       "0               1.115406              -0.072485\n",
       "1              -0.336053              -0.289228\n",
       "2              -0.212895              -0.017534\n",
       "3              -0.226211              -0.011964\n",
       "4               1.187314               0.156985"
      ]
     },
     "execution_count": 12,
     "metadata": {},
     "output_type": "execute_result"
    }
   ],
   "source": [
    "principalDf.head()"
   ]
  },
  {
   "cell_type": "code",
   "execution_count": 13,
   "metadata": {},
   "outputs": [],
   "source": [
    "# Calculate the covariance matrix\n",
    "def cov_matrix(data, verbose=False):\n",
    "    covariance_matrix = np.cov(data, rowvar=False)\n",
    "    if is_pos_def(covariance_matrix):\n",
    "        inv_covariance_matrix = np.linalg.inv(covariance_matrix)\n",
    "        if is_pos_def(inv_covariance_matrix):\n",
    "            return covariance_matrix, inv_covariance_matrix\n",
    "        else:\n",
    "            print(\"Error: Inverse of Covariance Matrix is not positive definite!\")\n",
    "    else:\n",
    "        print(\"Error: Covariance Matrix is not positive definite!\")"
   ]
  },
  {
   "cell_type": "code",
   "execution_count": 14,
   "metadata": {},
   "outputs": [],
   "source": [
    "# Calculate the Mahalanobis distance\n",
    "def MahalanobisDist(inv_cov_matrix, mean_distr, data, verbose=False):\n",
    "    inv_covariance_matrix = inv_cov_matrix\n",
    "    vars_mean = mean_distr\n",
    "    diff = data - vars_mean\n",
    "    md = []\n",
    "    for i in range(len(diff)):\n",
    "        md.append(np.sqrt(diff[i].dot(inv_covariance_matrix).dot(diff[i])))\n",
    "    return md"
   ]
  },
  {
   "cell_type": "code",
   "execution_count": 15,
   "metadata": {},
   "outputs": [],
   "source": [
    "# Calculate threshold value for classifying datapoint as anomaly\n",
    "def MD_threshold(dist, extreme=False, verbose=False):\n",
    "    k = 3. if extreme else 2.\n",
    "    threshold = np.mean(dist) * k\n",
    "    return threshold"
   ]
  },
  {
   "cell_type": "code",
   "execution_count": 16,
   "metadata": {},
   "outputs": [],
   "source": [
    "# Detecting outliers\n",
    "def MD_detectOutliers(dist, extreme=False, verbose=False):\n",
    "    k = 3. if extreme else 2.\n",
    "    threshold = np.mean(dist) * k\n",
    "    outliers = []\n",
    "    for i in range(len(dist)):\n",
    "        if dist[i] >= threshold:\n",
    "            outliers.append(i)  # index of the outlier\n",
    "    return np.array(outliers)"
   ]
  },
  {
   "cell_type": "code",
   "execution_count": 17,
   "metadata": {},
   "outputs": [],
   "source": [
    "# # Calculate threshold value for classifying datapoint as anomaly\n",
    "# def MD_threshold(dist, extreme=False, verbose=False):\n",
    "#     k = 3. if extreme else 2.\n",
    "#     threshold = np.mean(dist) * k\n",
    "#     return threshold"
   ]
  },
  {
   "cell_type": "code",
   "execution_count": 18,
   "metadata": {},
   "outputs": [],
   "source": [
    "# Check if matrix is positive definite\n",
    "def is_pos_def(A):\n",
    "    if np.allclose(A, A.T):\n",
    "        try:\n",
    "            np.linalg.cholesky(A)\n",
    "            return True\n",
    "        except np.linalg.LinAlgError:\n",
    "            return False\n",
    "    else:\n",
    "        return False"
   ]
  },
  {
   "cell_type": "code",
   "execution_count": 19,
   "metadata": {},
   "outputs": [],
   "source": [
    "# Set up PCA model\n",
    "data_train = np.array(principalComponents_Xtrain)\n",
    "data_test = np.array(principalComponents_Xtrain)"
   ]
  },
  {
   "cell_type": "code",
   "execution_count": 20,
   "metadata": {},
   "outputs": [],
   "source": [
    "# Calculate the covariance matrix and its inverse, based on data in the training set\n",
    "cov_matrix, inv_cov_matrix  = cov_matrix(data_train)"
   ]
  },
  {
   "cell_type": "code",
   "execution_count": 21,
   "metadata": {},
   "outputs": [],
   "source": [
    "# calculate the mean value for the input variables in the training set\n",
    "mean_distr = data_train.mean(axis=0)"
   ]
  },
  {
   "cell_type": "code",
   "execution_count": 22,
   "metadata": {},
   "outputs": [],
   "source": [
    "# calculate the Mahalanobis distance for the datapoints in the test set, and compare that with the anomaly threshold\n",
    "dist_test = MahalanobisDist(inv_cov_matrix, mean_distr, data_test, verbose=False)\n",
    "dist_train = MahalanobisDist(inv_cov_matrix, mean_distr, data_train, verbose=False)\n",
    "threshold = MD_threshold(dist_train, extreme = True)"
   ]
  },
  {
   "cell_type": "code",
   "execution_count": 23,
   "metadata": {},
   "outputs": [
    {
     "data": {
      "text/plain": [
       "(0.0, 15)"
      ]
     },
     "execution_count": 23,
     "metadata": {},
     "output_type": "execute_result"
    },
    {
     "data": {
      "image/png": "[encoded data removed]",
      "text/plain": [
       "<Figure size 432x288 with 1 Axes>"
      ]
     },
     "metadata": {
      "needs_background": "light"
     },
     "output_type": "display_data"
    }
   ],
   "source": [
    "# visualizing the square of the Mahalanobis distance\n",
    "plt.figure()\n",
    "sns.distplot(np.square(dist_train),\n",
    "             bins = 10, \n",
    "             kde= False);\n",
    "plt.xlim([0.0,15])"
   ]
  },
  {
   "cell_type": "code",
   "execution_count": 24,
   "metadata": {},
   "outputs": [
    {
     "data": {
      "text/plain": [
       "Text(0.5, 0, 'Mahalanobis dist')"
      ]
     },
     "execution_count": 24,
     "metadata": {},
     "output_type": "execute_result"
    },
    {
     "data": {
      "image/png": "[encoded data removed]",
      "text/plain": [
       "<Figure size 432x288 with 1 Axes>"
      ]
     },
     "metadata": {
      "needs_background": "light"
     },
     "output_type": "display_data"
    }
   ],
   "source": [
    "# visualize the Mahalanobis distance itself\n",
    "plt.figure()\n",
    "sns.distplot(dist_train,\n",
    "             bins = 10, \n",
    "             kde= True, \n",
    "            color = 'green');\n",
    "plt.xlim([0.0,5])\n",
    "plt.xlabel('Mahalanobis dist')"
   ]
  },
  {
   "cell_type": "code",
   "execution_count": 29,
   "metadata": {},
   "outputs": [
    {
     "data": {
      "text/html": [
       "<div>\n",
       "<style scoped>\n",
       "    .dataframe tbody tr th:only-of-type {\n",
       "        vertical-align: middle;\n",
       "    }\n",
       "\n",
       "    .dataframe tbody tr th {\n",
       "        vertical-align: top;\n",
       "    }\n",
       "\n",
       "    .dataframe thead th {\n",
       "        text-align: right;\n",
       "    }\n",
       "</style>\n",
       "<table border=\"1\" class=\"dataframe\">\n",
       "  <thead>\n",
       "    <tr style=\"text-align: right;\">\n",
       "      <th></th>\n",
       "      <th>Mob dist</th>\n",
       "      <th>Thresh</th>\n",
       "      <th>Anomaly</th>\n",
       "    </tr>\n",
       "  </thead>\n",
       "  <tbody>\n",
       "    <tr>\n",
       "      <th>0</th>\n",
       "      <td>2.073162</td>\n",
       "      <td>3.713669</td>\n",
       "      <td>False</td>\n",
       "    </tr>\n",
       "    <tr>\n",
       "      <th>1</th>\n",
       "      <td>1.326999</td>\n",
       "      <td>3.713669</td>\n",
       "      <td>False</td>\n",
       "    </tr>\n",
       "    <tr>\n",
       "      <th>2</th>\n",
       "      <td>0.398110</td>\n",
       "      <td>3.713669</td>\n",
       "      <td>False</td>\n",
       "    </tr>\n",
       "    <tr>\n",
       "      <th>3</th>\n",
       "      <td>0.419018</td>\n",
       "      <td>3.713669</td>\n",
       "      <td>False</td>\n",
       "    </tr>\n",
       "    <tr>\n",
       "      <th>4</th>\n",
       "      <td>2.275538</td>\n",
       "      <td>3.713669</td>\n",
       "      <td>False</td>\n",
       "    </tr>\n",
       "  </tbody>\n",
       "</table>\n",
       "</div>"
      ],
      "text/plain": [
       "   Mob dist    Thresh  Anomaly\n",
       "0  2.073162  3.713669    False\n",
       "1  1.326999  3.713669    False\n",
       "2  0.398110  3.713669    False\n",
       "3  0.419018  3.713669    False\n",
       "4  2.275538  3.713669    False"
      ]
     },
     "execution_count": 29,
     "metadata": {},
     "output_type": "execute_result"
    }
   ],
   "source": [
    "# well as the threshold value and “anomaly flag” variable for both train and test data in a dataframe\n",
    "anomaly_train = pd.DataFrame()\n",
    "anomaly_train['Mob dist']= dist_train\n",
    "anomaly_train['Thresh'] = threshold\n",
    "# If Mob dist above threshold: Flag as anomaly\n",
    "anomaly_train['Anomaly'] = anomaly_train['Mob dist'] > anomaly_train['Thresh']\n",
    "anomaly_train = data_train\n",
    "\n",
    "anomaly = pd.DataFrame()\n",
    "anomaly['Mob dist']= dist_test\n",
    "anomaly['Thresh'] = threshold\n",
    "# If Mob dist above threshold: Flag as anomaly\n",
    "anomaly['Anomaly'] = anomaly['Mob dist'] > anomaly['Thresh']\n",
    "# anomaly = data_test\n",
    "anomaly.head()"
   ]
  },
  {
   "cell_type": "code",
   "execution_count": null,
   "metadata": {},
   "outputs": [],
   "source": []
  },
  {
   "cell_type": "code",
   "execution_count": null,
   "metadata": {},
   "outputs": [],
   "source": []
  },
  {
   "cell_type": "code",
   "execution_count": null,
   "metadata": {},
   "outputs": [],
   "source": []
  },
  {
   "cell_type": "code",
   "execution_count": null,
   "metadata": {},
   "outputs": [],
   "source": []
  },
  {
   "cell_type": "code",
   "execution_count": null,
   "metadata": {},
   "outputs": [],
   "source": []
  }
 ],
 "metadata": {
  "kernelspec": {
   "display_name": "Python 3",
   "language": "python",
   "name": "python3"
  },
  "language_info": {
   "codemirror_mode": {
    "name": "ipython",
    "version": 3
   },
   "file_extension": ".py",
   "mimetype": "text/x-python",
   "name": "python",
   "nbconvert_exporter": "python",
   "pygments_lexer": "ipython3",
   "version": "3.6.5"
  }
 },
 "nbformat": 4,
 "nbformat_minor": 2
}
